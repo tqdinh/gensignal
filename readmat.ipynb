{
 "cells": [
  {
   "cell_type": "code",
   "execution_count": null,
   "metadata": {},
   "outputs": [],
   "source": [
    "import h5py\n",
    "import pandas as pd\n",
    "\n",
    "# Open the HDF5 file (replace 'your_file.mat' with your actual file path)\n",
    "hdf5_file = h5py.File('/Users/truongdinh/Downloads/Children Dataset/m0_radar.mat', 'r')\n",
    "\n",
    "# List all the groups in the HDF5 file\n",
    "groups = list(hdf5_file.keys())\n",
    "\n",
    "# Assuming the dataset is in a group named 'data', change it to your dataset name\n",
    "dataset_name = 'data_radar'\n",
    "\n",
    "# Read the dataset from the HDF5 file\n",
    "data = hdf5_file[dataset_name][:]  # Replace 'dataset_name' with your dataset name\n",
    "\n",
    "# Close the HDF5 file\n",
    "hdf5_file.close()\n",
    "\n",
    "# Convert data to a pandas DataFrame\n",
    "df = pd.DataFrame(data)\n",
    "\n",
    "# Export the DataFrame to a CSV file\n",
    "df.to_csv('output.csv', index=False)  # Replace 'output.csv' with your desired output file name\n"
   ]
  }
 ],
 "metadata": {
  "kernelspec": {
   "display_name": "Children Dataset",
   "language": "python",
   "name": "python3"
  },
  "language_info": {
   "codemirror_mode": {
    "name": "ipython",
    "version": 3
   },
   "file_extension": ".py",
   "mimetype": "text/x-python",
   "name": "python",
   "nbconvert_exporter": "python",
   "pygments_lexer": "ipython3",
   "version": "3.11.6"
  }
 },
 "nbformat": 4,
 "nbformat_minor": 2
}
